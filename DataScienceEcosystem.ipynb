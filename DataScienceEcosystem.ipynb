{
 "cells": [
  {
   "cell_type": "markdown",
   "id": "13025870-562f-44f3-b2c0-23d1d598687d",
   "metadata": {},
   "source": [
    "# Data Science Tools and Ecosystem"
   ]
  },
  {
   "cell_type": "markdown",
   "id": "86d1c3e1-1057-4cc4-94e8-9c6368d0b107",
   "metadata": {},
   "source": [
    "In this notebook, Data Science Tools and Ecosystem are summarized."
   ]
  },
  {
   "cell_type": "markdown",
   "id": "873e4597-80d0-4b53-8f80-d545e8c27956",
   "metadata": {},
   "source": [
    "**Objectives**\n",
    "- List Popular Languages for Data Science\n",
    "- List commonly used Data Science Libraries\n",
    "- Data Science Tools List\n",
    "- Arithmetic operations"
   ]
  },
  {
   "cell_type": "markdown",
   "id": "c0dce357-93ce-4754-b230-bce7f5e3af63",
   "metadata": {},
   "source": [
    "Some of the popular languages that Data Scientists use are:\n",
    "1. Python\n",
    "2. Java\n",
    "3. C++\n",
    "4. C"
   ]
  },
  {
   "cell_type": "markdown",
   "id": "eb2bd9dc-1479-4f65-8fdd-3b4bacaeb602",
   "metadata": {},
   "source": [
    "Some of the commonly used libraries used by Data Scientists include:\n",
    "1. numPy\n",
    "2. pandas\n",
    "3. scikit-learn\n",
    "4. matplotlib\n",
    "5. sciPy"
   ]
  },
  {
   "cell_type": "markdown",
   "id": "c14bb71b-39a4-4ad5-9c73-b66ffd1bff6d",
   "metadata": {},
   "source": [
    "|Data Science Tools|\n",
    "|-------------------|\n",
    "|Jupyter Notebook|\n",
    "|RStudio|\n",
    "|Apache Spark|"
   ]
  },
  {
   "cell_type": "markdown",
   "id": "e937dfae-870e-4732-bd75-3545d47098a5",
   "metadata": {},
   "source": [
    "### Below are a few examples of evaluating arithmetic expressions in Python."
   ]
  },
  {
   "cell_type": "code",
   "execution_count": 13,
   "id": "18e2601b-3c36-4bad-8b22-98f782bb0481",
   "metadata": {},
   "outputs": [
    {
     "data": {
      "text/plain": [
       "17"
      ]
     },
     "execution_count": 13,
     "metadata": {},
     "output_type": "execute_result"
    }
   ],
   "source": [
    "# This a simple arithmetic expression to mutiply then add integers.\n",
    "(3*4)+5"
   ]
  },
  {
   "cell_type": "code",
   "execution_count": 14,
   "id": "88b5dddb-50d4-483a-813b-f9c6bb3c086d",
   "metadata": {},
   "outputs": [
    {
     "data": {
      "text/plain": [
       "3.3333333333333335"
      ]
     },
     "execution_count": 14,
     "metadata": {},
     "output_type": "execute_result"
    }
   ],
   "source": [
    "# This will convert 200 minutes to hours by diving by 60\n",
    "hours = 200/60\n",
    "hours"
   ]
  },
  {
   "cell_type": "markdown",
   "id": "54263444-f71e-4db2-a8a6-a5c0552e1f57",
   "metadata": {},
   "source": [
    "## Author\n",
    "Preeja Sasikumar"
   ]
  },
  {
   "cell_type": "code",
   "execution_count": null,
   "id": "9cc38785-f1c8-4ece-9592-18027e4ee42e",
   "metadata": {},
   "outputs": [],
   "source": []
  }
 ],
 "metadata": {
  "kernelspec": {
   "display_name": "Python 3 (ipykernel)",
   "language": "python",
   "name": "python3"
  },
  "language_info": {
   "codemirror_mode": {
    "name": "ipython",
    "version": 3
   },
   "file_extension": ".py",
   "mimetype": "text/x-python",
   "name": "python",
   "nbconvert_exporter": "python",
   "pygments_lexer": "ipython3",
   "version": "3.12.5"
  }
 },
 "nbformat": 4,
 "nbformat_minor": 5
}
